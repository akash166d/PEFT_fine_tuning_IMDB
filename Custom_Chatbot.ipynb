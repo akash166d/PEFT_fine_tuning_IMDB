{
  "nbformat": 4,
  "nbformat_minor": 0,
  "metadata": {
    "colab": {
      "provenance": [],
      "authorship_tag": "ABX9TyOc1pKn7QeORmTgtIkjvKq8",
      "include_colab_link": true
    },
    "kernelspec": {
      "name": "python3",
      "display_name": "Python 3"
    },
    "language_info": {
      "name": "python"
    }
  },
  "cells": [
    {
      "cell_type": "markdown",
      "metadata": {
        "id": "view-in-github",
        "colab_type": "text"
      },
      "source": [
        "<a href=\"https://colab.research.google.com/github/akash166d/PEFT_fine_tuning_IMDB/blob/main/Custom_Chatbot.ipynb\" target=\"_parent\"><img src=\"https://colab.research.google.com/assets/colab-badge.svg\" alt=\"Open In Colab\"/></a>"
      ]
    },
    {
      "cell_type": "markdown",
      "source": [
        "Project: Build Your Own Custom Chatbot"
      ],
      "metadata": {
        "id": "xsFlKK9mEX9j"
      }
    },
    {
      "cell_type": "markdown",
      "source": [
        "**Dataset :** character_descriptions.csv\n",
        "\n",
        "**Why?**\n",
        "Media industry is an art form and an ever evolving field. For casting directors it is very important to cast right person who suits the script.\n",
        "When the media is created casting directors tries to look for similar performances across the field and in most cases they want ot look for recent artist (as they might bring more money on the table as they already have face value) Given that openAI may not have such info about media (in our case characters in particular) to provide with most recent information.\n",
        "\n",
        "GPT needs text as the input so we will compress the information from all fields into one. To save token space we will keep it simple:\n",
        "\n",
        "**Text** = Name of Character: <Name>  /n/n Description: <description> /n/n Setting: <setting> /n/n Medium: <medium>\n",
        "\n"
      ],
      "metadata": {
        "id": "B_7LRs7FEvW3"
      }
    },
    {
      "cell_type": "code",
      "execution_count": 37,
      "metadata": {
        "colab": {
          "base_uri": "https://localhost:8080/"
        },
        "id": "wKVs9STyEOZ1",
        "outputId": "7348193e-4e24-426c-d9b6-616d31997e5b"
      },
      "outputs": [
        {
          "output_type": "stream",
          "name": "stdout",
          "text": [
            "Found existing installation: openai 1.37.0\n",
            "Uninstalling openai-1.37.0:\n",
            "  Would remove:\n",
            "    /usr/local/bin/openai\n",
            "    /usr/local/lib/python3.10/dist-packages/openai-1.37.0.dist-info/*\n",
            "    /usr/local/lib/python3.10/dist-packages/openai/*\n",
            "Proceed (Y/n)? Y\n",
            "  Successfully uninstalled openai-1.37.0\n",
            "Collecting openai\n",
            "  Using cached openai-1.37.0-py3-none-any.whl (337 kB)\n",
            "Requirement already satisfied: anyio<5,>=3.5.0 in /usr/local/lib/python3.10/dist-packages (from openai) (3.7.1)\n",
            "Requirement already satisfied: distro<2,>=1.7.0 in /usr/lib/python3/dist-packages (from openai) (1.7.0)\n",
            "Requirement already satisfied: httpx<1,>=0.23.0 in /usr/local/lib/python3.10/dist-packages (from openai) (0.27.0)\n",
            "Requirement already satisfied: pydantic<3,>=1.9.0 in /usr/local/lib/python3.10/dist-packages (from openai) (2.8.2)\n",
            "Requirement already satisfied: sniffio in /usr/local/lib/python3.10/dist-packages (from openai) (1.3.1)\n",
            "Requirement already satisfied: tqdm>4 in /usr/local/lib/python3.10/dist-packages (from openai) (4.66.4)\n",
            "Requirement already satisfied: typing-extensions<5,>=4.7 in /usr/local/lib/python3.10/dist-packages (from openai) (4.12.2)\n",
            "Requirement already satisfied: idna>=2.8 in /usr/local/lib/python3.10/dist-packages (from anyio<5,>=3.5.0->openai) (3.7)\n",
            "Requirement already satisfied: exceptiongroup in /usr/local/lib/python3.10/dist-packages (from anyio<5,>=3.5.0->openai) (1.2.2)\n",
            "Requirement already satisfied: certifi in /usr/local/lib/python3.10/dist-packages (from httpx<1,>=0.23.0->openai) (2024.7.4)\n",
            "Requirement already satisfied: httpcore==1.* in /usr/local/lib/python3.10/dist-packages (from httpx<1,>=0.23.0->openai) (1.0.5)\n",
            "Requirement already satisfied: h11<0.15,>=0.13 in /usr/local/lib/python3.10/dist-packages (from httpcore==1.*->httpx<1,>=0.23.0->openai) (0.14.0)\n",
            "Requirement already satisfied: annotated-types>=0.4.0 in /usr/local/lib/python3.10/dist-packages (from pydantic<3,>=1.9.0->openai) (0.7.0)\n",
            "Requirement already satisfied: pydantic-core==2.20.1 in /usr/local/lib/python3.10/dist-packages (from pydantic<3,>=1.9.0->openai) (2.20.1)\n",
            "Installing collected packages: openai\n",
            "Successfully installed openai-1.37.0\n",
            "Requirement already satisfied: tiktoken in /usr/local/lib/python3.10/dist-packages (0.7.0)\n",
            "Requirement already satisfied: regex>=2022.1.18 in /usr/local/lib/python3.10/dist-packages (from tiktoken) (2024.5.15)\n",
            "Requirement already satisfied: requests>=2.26.0 in /usr/local/lib/python3.10/dist-packages (from tiktoken) (2.31.0)\n",
            "Requirement already satisfied: charset-normalizer<4,>=2 in /usr/local/lib/python3.10/dist-packages (from requests>=2.26.0->tiktoken) (3.3.2)\n",
            "Requirement already satisfied: idna<4,>=2.5 in /usr/local/lib/python3.10/dist-packages (from requests>=2.26.0->tiktoken) (3.7)\n",
            "Requirement already satisfied: urllib3<3,>=1.21.1 in /usr/local/lib/python3.10/dist-packages (from requests>=2.26.0->tiktoken) (2.0.7)\n",
            "Requirement already satisfied: certifi>=2017.4.17 in /usr/local/lib/python3.10/dist-packages (from requests>=2.26.0->tiktoken) (2024.7.4)\n"
          ]
        }
      ],
      "source": [
        "!pip uninstall openai\n",
        "!pip install openai\n",
        "!pip install tiktoken"
      ]
    },
    {
      "cell_type": "code",
      "source": [
        "import pandas as pd\n",
        "import numpy as np\n",
        "import openai\n",
        "import os\n",
        "from openai.embeddings_utils import distances_from_embeddings\n",
        "# from openai import OpenAI"
      ],
      "metadata": {
        "id": "qnnqBWzxH9Ol"
      },
      "execution_count": 29,
      "outputs": []
    },
    {
      "cell_type": "code",
      "source": [
        "from google.colab import userdata\n",
        "import openai\n",
        "openai.api_base = \"https://openai.vocareum.com/v1\"\n",
        "openai.api_key = \"voc-00000000000000000000000000000000abcd.12345678\"\n",
        "EMBEDDING_MODEL_NAME = \"text-embedding-ada-002\"\n",
        "MAX_TOKENS = 1000"
      ],
      "metadata": {
        "id": "uKY71o07IAss"
      },
      "execution_count": 30,
      "outputs": []
    },
    {
      "cell_type": "markdown",
      "source": [
        "# Data Import and Wrangling"
      ],
      "metadata": {
        "id": "rpZKZE7kJMqG"
      }
    },
    {
      "cell_type": "code",
      "source": [
        "from google.colab import drive\n",
        "drive.mount('/content/drive/')"
      ],
      "metadata": {
        "colab": {
          "base_uri": "https://localhost:8080/"
        },
        "id": "AfSo4aK5JEKz",
        "outputId": "c54fd9f6-2a3f-40c4-b5ba-433413677cb6"
      },
      "execution_count": 31,
      "outputs": [
        {
          "output_type": "stream",
          "name": "stdout",
          "text": [
            "Drive already mounted at /content/drive/; to attempt to forcibly remount, call drive.mount(\"/content/drive/\", force_remount=True).\n"
          ]
        }
      ]
    },
    {
      "cell_type": "code",
      "source": [
        "FILE_PATH = \"/content/drive/My Drive/PEFT_fine_tuning/character_descriptions.csv\"\n",
        "# Load & transform data\n",
        "data = pd.read_csv(FILE_PATH)\n",
        "data['text'] = \"Name of Character: \" + data.Name + \" /n/n Description: \" + data.Description + \" /n/n Setting: \" + data.Setting + \" /n/n Medium: \" + data.Medium\n",
        "data = data[[\"text\"]]\n",
        "print(str(data.shape))\n",
        "data.head(2)\n"
      ],
      "metadata": {
        "colab": {
          "base_uri": "https://localhost:8080/",
          "height": 130
        },
        "id": "7cI1HzPfJTNo",
        "outputId": "ffc14900-3c2b-41a6-c8ba-6d187d5046f5"
      },
      "execution_count": 32,
      "outputs": [
        {
          "output_type": "stream",
          "name": "stdout",
          "text": [
            "(55, 1)\n"
          ]
        },
        {
          "output_type": "execute_result",
          "data": {
            "text/plain": [
              "                                                text\n",
              "0  Name of Character: Emily /n/n Description: A y...\n",
              "1  Name of Character: Jack /n/n Description: A mi..."
            ],
            "text/html": [
              "\n",
              "  <div id=\"df-05e06793-d3cf-47f9-91c5-3f9ea3a66f3d\" class=\"colab-df-container\">\n",
              "    <div>\n",
              "<style scoped>\n",
              "    .dataframe tbody tr th:only-of-type {\n",
              "        vertical-align: middle;\n",
              "    }\n",
              "\n",
              "    .dataframe tbody tr th {\n",
              "        vertical-align: top;\n",
              "    }\n",
              "\n",
              "    .dataframe thead th {\n",
              "        text-align: right;\n",
              "    }\n",
              "</style>\n",
              "<table border=\"1\" class=\"dataframe\">\n",
              "  <thead>\n",
              "    <tr style=\"text-align: right;\">\n",
              "      <th></th>\n",
              "      <th>text</th>\n",
              "    </tr>\n",
              "  </thead>\n",
              "  <tbody>\n",
              "    <tr>\n",
              "      <th>0</th>\n",
              "      <td>Name of Character: Emily /n/n Description: A y...</td>\n",
              "    </tr>\n",
              "    <tr>\n",
              "      <th>1</th>\n",
              "      <td>Name of Character: Jack /n/n Description: A mi...</td>\n",
              "    </tr>\n",
              "  </tbody>\n",
              "</table>\n",
              "</div>\n",
              "    <div class=\"colab-df-buttons\">\n",
              "\n",
              "  <div class=\"colab-df-container\">\n",
              "    <button class=\"colab-df-convert\" onclick=\"convertToInteractive('df-05e06793-d3cf-47f9-91c5-3f9ea3a66f3d')\"\n",
              "            title=\"Convert this dataframe to an interactive table.\"\n",
              "            style=\"display:none;\">\n",
              "\n",
              "  <svg xmlns=\"http://www.w3.org/2000/svg\" height=\"24px\" viewBox=\"0 -960 960 960\">\n",
              "    <path d=\"M120-120v-720h720v720H120Zm60-500h600v-160H180v160Zm220 220h160v-160H400v160Zm0 220h160v-160H400v160ZM180-400h160v-160H180v160Zm440 0h160v-160H620v160ZM180-180h160v-160H180v160Zm440 0h160v-160H620v160Z\"/>\n",
              "  </svg>\n",
              "    </button>\n",
              "\n",
              "  <style>\n",
              "    .colab-df-container {\n",
              "      display:flex;\n",
              "      gap: 12px;\n",
              "    }\n",
              "\n",
              "    .colab-df-convert {\n",
              "      background-color: #E8F0FE;\n",
              "      border: none;\n",
              "      border-radius: 50%;\n",
              "      cursor: pointer;\n",
              "      display: none;\n",
              "      fill: #1967D2;\n",
              "      height: 32px;\n",
              "      padding: 0 0 0 0;\n",
              "      width: 32px;\n",
              "    }\n",
              "\n",
              "    .colab-df-convert:hover {\n",
              "      background-color: #E2EBFA;\n",
              "      box-shadow: 0px 1px 2px rgba(60, 64, 67, 0.3), 0px 1px 3px 1px rgba(60, 64, 67, 0.15);\n",
              "      fill: #174EA6;\n",
              "    }\n",
              "\n",
              "    .colab-df-buttons div {\n",
              "      margin-bottom: 4px;\n",
              "    }\n",
              "\n",
              "    [theme=dark] .colab-df-convert {\n",
              "      background-color: #3B4455;\n",
              "      fill: #D2E3FC;\n",
              "    }\n",
              "\n",
              "    [theme=dark] .colab-df-convert:hover {\n",
              "      background-color: #434B5C;\n",
              "      box-shadow: 0px 1px 3px 1px rgba(0, 0, 0, 0.15);\n",
              "      filter: drop-shadow(0px 1px 2px rgba(0, 0, 0, 0.3));\n",
              "      fill: #FFFFFF;\n",
              "    }\n",
              "  </style>\n",
              "\n",
              "    <script>\n",
              "      const buttonEl =\n",
              "        document.querySelector('#df-05e06793-d3cf-47f9-91c5-3f9ea3a66f3d button.colab-df-convert');\n",
              "      buttonEl.style.display =\n",
              "        google.colab.kernel.accessAllowed ? 'block' : 'none';\n",
              "\n",
              "      async function convertToInteractive(key) {\n",
              "        const element = document.querySelector('#df-05e06793-d3cf-47f9-91c5-3f9ea3a66f3d');\n",
              "        const dataTable =\n",
              "          await google.colab.kernel.invokeFunction('convertToInteractive',\n",
              "                                                    [key], {});\n",
              "        if (!dataTable) return;\n",
              "\n",
              "        const docLinkHtml = 'Like what you see? Visit the ' +\n",
              "          '<a target=\"_blank\" href=https://colab.research.google.com/notebooks/data_table.ipynb>data table notebook</a>'\n",
              "          + ' to learn more about interactive tables.';\n",
              "        element.innerHTML = '';\n",
              "        dataTable['output_type'] = 'display_data';\n",
              "        await google.colab.output.renderOutput(dataTable, element);\n",
              "        const docLink = document.createElement('div');\n",
              "        docLink.innerHTML = docLinkHtml;\n",
              "        element.appendChild(docLink);\n",
              "      }\n",
              "    </script>\n",
              "  </div>\n",
              "\n",
              "\n",
              "<div id=\"df-98c7a480-c0fc-4a94-9ea5-a5b87512b309\">\n",
              "  <button class=\"colab-df-quickchart\" onclick=\"quickchart('df-98c7a480-c0fc-4a94-9ea5-a5b87512b309')\"\n",
              "            title=\"Suggest charts\"\n",
              "            style=\"display:none;\">\n",
              "\n",
              "<svg xmlns=\"http://www.w3.org/2000/svg\" height=\"24px\"viewBox=\"0 0 24 24\"\n",
              "     width=\"24px\">\n",
              "    <g>\n",
              "        <path d=\"M19 3H5c-1.1 0-2 .9-2 2v14c0 1.1.9 2 2 2h14c1.1 0 2-.9 2-2V5c0-1.1-.9-2-2-2zM9 17H7v-7h2v7zm4 0h-2V7h2v10zm4 0h-2v-4h2v4z\"/>\n",
              "    </g>\n",
              "</svg>\n",
              "  </button>\n",
              "\n",
              "<style>\n",
              "  .colab-df-quickchart {\n",
              "      --bg-color: #E8F0FE;\n",
              "      --fill-color: #1967D2;\n",
              "      --hover-bg-color: #E2EBFA;\n",
              "      --hover-fill-color: #174EA6;\n",
              "      --disabled-fill-color: #AAA;\n",
              "      --disabled-bg-color: #DDD;\n",
              "  }\n",
              "\n",
              "  [theme=dark] .colab-df-quickchart {\n",
              "      --bg-color: #3B4455;\n",
              "      --fill-color: #D2E3FC;\n",
              "      --hover-bg-color: #434B5C;\n",
              "      --hover-fill-color: #FFFFFF;\n",
              "      --disabled-bg-color: #3B4455;\n",
              "      --disabled-fill-color: #666;\n",
              "  }\n",
              "\n",
              "  .colab-df-quickchart {\n",
              "    background-color: var(--bg-color);\n",
              "    border: none;\n",
              "    border-radius: 50%;\n",
              "    cursor: pointer;\n",
              "    display: none;\n",
              "    fill: var(--fill-color);\n",
              "    height: 32px;\n",
              "    padding: 0;\n",
              "    width: 32px;\n",
              "  }\n",
              "\n",
              "  .colab-df-quickchart:hover {\n",
              "    background-color: var(--hover-bg-color);\n",
              "    box-shadow: 0 1px 2px rgba(60, 64, 67, 0.3), 0 1px 3px 1px rgba(60, 64, 67, 0.15);\n",
              "    fill: var(--button-hover-fill-color);\n",
              "  }\n",
              "\n",
              "  .colab-df-quickchart-complete:disabled,\n",
              "  .colab-df-quickchart-complete:disabled:hover {\n",
              "    background-color: var(--disabled-bg-color);\n",
              "    fill: var(--disabled-fill-color);\n",
              "    box-shadow: none;\n",
              "  }\n",
              "\n",
              "  .colab-df-spinner {\n",
              "    border: 2px solid var(--fill-color);\n",
              "    border-color: transparent;\n",
              "    border-bottom-color: var(--fill-color);\n",
              "    animation:\n",
              "      spin 1s steps(1) infinite;\n",
              "  }\n",
              "\n",
              "  @keyframes spin {\n",
              "    0% {\n",
              "      border-color: transparent;\n",
              "      border-bottom-color: var(--fill-color);\n",
              "      border-left-color: var(--fill-color);\n",
              "    }\n",
              "    20% {\n",
              "      border-color: transparent;\n",
              "      border-left-color: var(--fill-color);\n",
              "      border-top-color: var(--fill-color);\n",
              "    }\n",
              "    30% {\n",
              "      border-color: transparent;\n",
              "      border-left-color: var(--fill-color);\n",
              "      border-top-color: var(--fill-color);\n",
              "      border-right-color: var(--fill-color);\n",
              "    }\n",
              "    40% {\n",
              "      border-color: transparent;\n",
              "      border-right-color: var(--fill-color);\n",
              "      border-top-color: var(--fill-color);\n",
              "    }\n",
              "    60% {\n",
              "      border-color: transparent;\n",
              "      border-right-color: var(--fill-color);\n",
              "    }\n",
              "    80% {\n",
              "      border-color: transparent;\n",
              "      border-right-color: var(--fill-color);\n",
              "      border-bottom-color: var(--fill-color);\n",
              "    }\n",
              "    90% {\n",
              "      border-color: transparent;\n",
              "      border-bottom-color: var(--fill-color);\n",
              "    }\n",
              "  }\n",
              "</style>\n",
              "\n",
              "  <script>\n",
              "    async function quickchart(key) {\n",
              "      const quickchartButtonEl =\n",
              "        document.querySelector('#' + key + ' button');\n",
              "      quickchartButtonEl.disabled = true;  // To prevent multiple clicks.\n",
              "      quickchartButtonEl.classList.add('colab-df-spinner');\n",
              "      try {\n",
              "        const charts = await google.colab.kernel.invokeFunction(\n",
              "            'suggestCharts', [key], {});\n",
              "      } catch (error) {\n",
              "        console.error('Error during call to suggestCharts:', error);\n",
              "      }\n",
              "      quickchartButtonEl.classList.remove('colab-df-spinner');\n",
              "      quickchartButtonEl.classList.add('colab-df-quickchart-complete');\n",
              "    }\n",
              "    (() => {\n",
              "      let quickchartButtonEl =\n",
              "        document.querySelector('#df-98c7a480-c0fc-4a94-9ea5-a5b87512b309 button');\n",
              "      quickchartButtonEl.style.display =\n",
              "        google.colab.kernel.accessAllowed ? 'block' : 'none';\n",
              "    })();\n",
              "  </script>\n",
              "</div>\n",
              "\n",
              "    </div>\n",
              "  </div>\n"
            ],
            "application/vnd.google.colaboratory.intrinsic+json": {
              "type": "dataframe",
              "variable_name": "data",
              "summary": "{\n  \"name\": \"data\",\n  \"rows\": 55,\n  \"fields\": [\n    {\n      \"column\": \"text\",\n      \"properties\": {\n        \"dtype\": \"string\",\n        \"num_unique_values\": 55,\n        \"samples\": [\n          \"Name of Character: Noah /n/n Description: A quirky and creative graphic designer, Noah is always pushing the boundaries with his art. He's looking for someone who can appreciate his unique perspective and isn't afraid to be a little unconventional. He's a bit of a romantic at heart, and loves nothing more than creating grand gestures of love for the people he cares about. /n/n Setting: USA /n/n Medium: Reality Show\",\n          \"Name of Character: George /n/n Description: A man in his early 30s, George is a charming and charismatic businessman who is in a relationship with Emily. He's ambitious, confident, and always looking for the next big opportunity. However, he's also prone to bending the rules to get what he wants. /n/n Setting: England /n/n Medium: Play\",\n          \"Name of Character: Chloe /n/n Description: A driven and ambitious attorney, Chloe is always striving for success. She's looking for someone who can match her intellect and drive, and who is supportive of her career goals. She's a bit guarded when it comes to matters of the heart, but is ready to let her guard down for the right person. /n/n Setting: USA /n/n Medium: Reality Show\"\n        ],\n        \"semantic_type\": \"\",\n        \"description\": \"\"\n      }\n    }\n  ]\n}"
            }
          },
          "metadata": {},
          "execution_count": 32
        }
      ]
    },
    {
      "cell_type": "markdown",
      "source": [
        "Since the dataset is small we will create and store embeddings in csv. In most practical setting we will be using a Vector Database to store vectors (or embeddings) and then retreive it based on similarity"
      ],
      "metadata": {
        "id": "YiLisBThLKk4"
      }
    },
    {
      "cell_type": "code",
      "source": [
        "embeddings = []\n",
        "for index, row in data.iterrows():\n",
        "  response = openai.Embedding.create(\n",
        "      input=row[\"text\"],\n",
        "      engine=EMBEDDING_MODEL_NAME\n",
        "  )\n",
        "  embeddings.extend([data[\"embedding\"] for data in response[\"data\"]])\n",
        "data[\"embeddings\"] = embeddings"
      ],
      "metadata": {
        "id": "VsD474TUJyLC"
      },
      "execution_count": 39,
      "outputs": []
    },
    {
      "cell_type": "markdown",
      "source": [
        "## Custom Query Completion\n",
        "\n",
        "TODO: In the cells below, compose a custom query using your chosen dataset and retrieve results from an OpenAI `Completion` model. You may copy and paste any useful code from the course materials."
      ],
      "metadata": {
        "id": "DhPty5V8lX53"
      }
    },
    {
      "cell_type": "code",
      "source": [
        "def question_embeddings(question):\n",
        "  response = openai.Embedding.create(\n",
        "      input=question,\n",
        "      engine=EMBEDDING_MODEL_NAME\n",
        "  )\n",
        "  return response[\"data\"][0][\"embedding\"]"
      ],
      "metadata": {
        "id": "-g4Z6fRTLta2"
      },
      "execution_count": 40,
      "outputs": []
    },
    {
      "cell_type": "code",
      "source": [
        "q1 = \"Suggest a character name, who is best suited for live comedy show?\"\n",
        "q2 = \"Suggest atleast two female character, who are best suited to play an anchor role?\"\n",
        "q1_embeddings = question_embeddings(q1)\n",
        "q2_embeddings = question_embeddings(q2)\n",
        "\n",
        "df['q1_distances'] = distances_from_embeddings(\n",
        "  q1_embeddings,\n",
        "  df['embeddings'].values,\n",
        "  distance_metric=\"cosine\"\n",
        ")\n",
        "df['q2_distances'] = distances_from_embeddings(\n",
        "  q2_embeddings,\n",
        "  df['embeddings'].values,\n",
        "  distance_metric=\"cosine\"\n",
        ")\n",
        "df.head()\n",
        "dfq1 = df.sort_values(by=[\"q1_distances\"], ascending=True)\n",
        "dfq2 = df.sort_values(by=[\"q2_distances\"], ascending=True)\n",
        "dfq1.head()"
      ],
      "metadata": {
        "id": "0Ifquj3alb6j"
      },
      "execution_count": null,
      "outputs": []
    },
    {
      "cell_type": "code",
      "source": [
        "dfq1[\"text\"].head(10).values"
      ],
      "metadata": {
        "id": "Uq4ZBhg4livD"
      },
      "execution_count": null,
      "outputs": []
    },
    {
      "cell_type": "code",
      "source": [
        "import tiktoken\n",
        "tokenizer = tiktoken.get_encoding(\"cl100k_base\")\n",
        "prompt_template = \"\"\"\n",
        "Answer the question using Context provided below.\n",
        "If no useful information or answer found just say 'I'm not sure'\n",
        "\n",
        "Context:\n",
        "\n",
        "{}\n",
        "\n",
        "---\n",
        "\n",
        "Question: {}\n",
        "Answer:\"\"\"\n",
        "def get_prompt(question, df):\n",
        "  token_count = len(tokenizer.encode(prompt_template)) + len(tokenizer.encode(question))\n",
        "  context_list = []\n",
        "  for text in df[\"text\"].head(10).values:\n",
        "    token_count += len(tokenizer.encode(text))\n",
        "    if token_count <= MAX_TOKENS:\n",
        "        context_list.append(text)\n",
        "    else:\n",
        "        break\n",
        "  prompt = prompt_template.format(\"\\n\\n###\\n\\n\".join(context_list), question)\n",
        "  return prompt"
      ],
      "metadata": {
        "id": "7rhipmtflkVM"
      },
      "execution_count": null,
      "outputs": []
    },
    {
      "cell_type": "code",
      "source": [
        "q1_prompt=get_prompt(q1, dfq1)\n",
        "q2_prompt=get_prompt(q2, dfq2)"
      ],
      "metadata": {
        "id": "BLxL3unelo-f"
      },
      "execution_count": null,
      "outputs": []
    },
    {
      "cell_type": "markdown",
      "source": [
        "## Custom Performance Demonstration\n",
        "\n",
        "TODO: In the cells below, demonstrate the performance of your custom query using at least 2 questions. For each question, show the answer from a basic `Completion` model query as well as the answer from your custom query."
      ],
      "metadata": {
        "id": "NXV-6DWflzAf"
      }
    },
    {
      "cell_type": "markdown",
      "source": [
        "### Question 1 Custom"
      ],
      "metadata": {
        "id": "eZKdJAvEl4VO"
      }
    },
    {
      "cell_type": "code",
      "source": [
        "COMPLETION_MODEL_NAME = \"gpt-3.5-turbo-instruct\"\n",
        "response = openai.Completion.create(\n",
        "    model=COMPLETION_MODEL_NAME,\n",
        "    prompt=q1_prompt,\n",
        "    max_tokens=150\n",
        ")\n",
        "answer = response[\"choices\"][0][\"text\"].strip()\n",
        "print(answer)"
      ],
      "metadata": {
        "id": "Psdor5QEl03Y"
      },
      "execution_count": null,
      "outputs": []
    },
    {
      "cell_type": "markdown",
      "source": [
        "### Question 2 Custom"
      ],
      "metadata": {
        "id": "zh8jr14umAsf"
      }
    },
    {
      "cell_type": "code",
      "source": [
        "COMPLETION_MODEL_NAME = \"gpt-3.5-turbo-instruct\"\n",
        "response = openai.Completion.create(\n",
        "    model=COMPLETION_MODEL_NAME,\n",
        "    prompt=q2_prompt,\n",
        "    max_tokens=150\n",
        ")\n",
        "answer = response[\"choices\"][0][\"text\"].strip()\n",
        "print(answer)"
      ],
      "metadata": {
        "id": "vPbpeoN8l7kl"
      },
      "execution_count": null,
      "outputs": []
    },
    {
      "cell_type": "markdown",
      "source": [
        "### Question 1 Basic"
      ],
      "metadata": {
        "id": "0kT2XTZ2mLiU"
      }
    },
    {
      "cell_type": "code",
      "source": [
        "COMPLETION_MODEL_NAME = \"gpt-3.5-turbo-instruct\"\n",
        "response = openai.Completion.create(\n",
        "    model=COMPLETION_MODEL_NAME,\n",
        "    prompt=q1,\n",
        "    max_tokens=150\n",
        ")\n",
        "answer = response[\"choices\"][0][\"text\"].strip()\n",
        "print(answer)"
      ],
      "metadata": {
        "id": "BWf6-_GmmEdc"
      },
      "execution_count": null,
      "outputs": []
    },
    {
      "cell_type": "markdown",
      "source": [
        "### Question 2 Custom"
      ],
      "metadata": {
        "id": "koOLoZWOmRvV"
      }
    },
    {
      "cell_type": "code",
      "source": [
        "COMPLETION_MODEL_NAME = \"gpt-3.5-turbo-instruct\"\n",
        "response = openai.Completion.create(\n",
        "    model=COMPLETION_MODEL_NAME,\n",
        "    prompt=q2,\n",
        "    max_tokens=150\n",
        ")\n",
        "answer = response[\"choices\"][0][\"text\"].strip()\n",
        "print(answer)"
      ],
      "metadata": {
        "id": "k-XF2NdemOZL"
      },
      "execution_count": 42,
      "outputs": []
    },
    {
      "cell_type": "code",
      "source": [
        "#"
      ],
      "metadata": {
        "id": "ZgVCZ3lYmU6l"
      },
      "execution_count": null,
      "outputs": []
    }
  ]
}